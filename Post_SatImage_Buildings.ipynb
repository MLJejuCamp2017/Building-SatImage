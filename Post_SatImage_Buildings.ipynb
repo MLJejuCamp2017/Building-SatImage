{
 "cells": [
  {
   "cell_type": "code",
   "execution_count": null,
   "metadata": {
    "ExecuteTime": {
     "end_time": "2017-07-24T06:28:23.347679Z",
     "start_time": "2017-07-24T06:28:20.203511Z"
    }
   },
   "outputs": [],
   "source": [
    "%pylab inline"
   ]
  },
  {
   "cell_type": "code",
   "execution_count": null,
   "metadata": {
    "ExecuteTime": {
     "end_time": "2017-07-24T06:28:47.459034Z",
     "start_time": "2017-07-24T06:28:24.826476Z"
    },
    "collapsed": true
   },
   "outputs": [],
   "source": [
    "# Keras\n",
    "import tensorflow as tf\n",
    "from tensorflow.contrib import keras\n",
    "from tensorflow.contrib.keras.python.keras import models, losses\n",
    "from tensorflow.contrib.keras.python.keras.layers.core import Dense,Reshape,Flatten, Dropout\n",
    "from tensorflow.contrib.keras.python.keras.layers.pooling import MaxPool2D\n",
    "from tensorflow.contrib.keras.python.keras.layers.convolutional import ZeroPadding2D, Conv2D\n",
    "from tensorflow.contrib.keras.python.keras.layers.merge import Concatenate, Add\n",
    "from tensorflow.contrib.keras.python.keras.layers.recurrent import LSTM, GRU\n",
    "from tensorflow.contrib.keras.python.keras.layers.pooling import MaxPool2D\n",
    "from tensorflow.contrib.keras.python.keras.wrappers.scikit_learn import KerasClassifier"
   ]
  },
  {
   "cell_type": "code",
   "execution_count": null,
   "metadata": {
    "ExecuteTime": {
     "end_time": "2017-07-24T06:28:58.094711Z",
     "start_time": "2017-07-24T06:28:47.461377Z"
    },
    "collapsed": true
   },
   "outputs": [],
   "source": [
    "# basic\n",
    "import os\n",
    "import random\n",
    "import json\n",
    "import pandas as pd\n",
    "import seaborn as sns\n",
    "sns.set(style=\"darkgrid\")\n",
    "\n",
    "# geo-related\n",
    "from osgeo import gdal\n",
    "import geopandas as gpd\n",
    "import folium\n",
    "from folium import plugins\n",
    "\n",
    "# scikit-learn\n",
    "from sklearn import model_selection\n",
    "from sklearn.metrics import confusion_matrix, accuracy_score, precision_score, recall_score, f1_score\n",
    "from sklearn.decomposition import PCA\n",
    "from sklearn.metrics import classification_report\n",
    "from sklearn.metrics import roc_curve, auc\n",
    "\n",
    "from rscnn_utils import utils"
   ]
  },
  {
   "cell_type": "code",
   "execution_count": null,
   "metadata": {
    "ExecuteTime": {
     "end_time": "2017-07-24T06:28:58.103400Z",
     "start_time": "2017-07-24T06:28:58.096995Z"
    },
    "collapsed": true
   },
   "outputs": [],
   "source": [
    "seed = 7\n",
    "random.seed(seed)\n",
    "np.random.seed(seed)\n",
    "tf.set_random_seed(seed)"
   ]
  },
  {
   "cell_type": "code",
   "execution_count": null,
   "metadata": {
    "ExecuteTime": {
     "end_time": "2017-07-24T06:29:07.806791Z",
     "start_time": "2017-07-24T06:29:07.267059Z"
    },
    "collapsed": true
   },
   "outputs": [],
   "source": [
    "folder = './buildData/'\n",
    "\n",
    "ht = gdal.Open(os.path.join(folder,'mosaic_post.tif'))\n",
    "gt = ht.GetGeoTransform()\n",
    "\n",
    "buildings_df = gpd.read_file(os.path.join(folder,'building_post_id_join_reclassified.shp'))\n",
    "buildings_df['image_id']='mosaic_post'"
   ]
  },
  {
   "cell_type": "code",
   "execution_count": null,
   "metadata": {
    "ExecuteTime": {
     "end_time": "2017-07-24T06:29:09.040535Z",
     "start_time": "2017-07-24T06:29:09.034082Z"
    },
    "collapsed": true
   },
   "outputs": [],
   "source": [
    "width = ht.RasterXSize    \n",
    "height = ht.RasterYSize\n",
    "minx = gt[0]   \n",
    "miny = gt[3] + width * gt[4] + height * gt[5]    \n",
    "maxx = gt[0] + width * gt[1] + height * gt[2]    \n",
    "maxy = gt[3]"
   ]
  },
  {
   "cell_type": "code",
   "execution_count": null,
   "metadata": {
    "ExecuteTime": {
     "end_time": "2017-07-24T05:50:19.818098Z",
     "start_time": "2017-07-24T05:50:17.640873Z"
    }
   },
   "outputs": [],
   "source": [
    "map_osm = folium.Map([18.54,-72.34],\n",
    "                  zoom_start=14,\n",
    "                  tiles='cartodbpositron')\n",
    "\n",
    "band1 = ht.GetRasterBand(1).ReadAsArray()\n",
    "\n",
    "# https://openlayers.org/en/latest/examples/static-image.html\n",
    "plugins.ImageOverlay(band1[0::20,0::20],\n",
    "                     [[miny, minx], [maxy, maxx]],\n",
    "                     opacity=0.8).add_to(map_osm)\n",
    "\n",
    "gjson = buildings_df.geometry.to_json()\n",
    "poly = folium.features.GeoJson(gjson).add_to(map_osm)\n",
    "map_osm"
   ]
  },
  {
   "cell_type": "code",
   "execution_count": null,
   "metadata": {
    "ExecuteTime": {
     "end_time": "2017-07-24T06:29:29.018946Z",
     "start_time": "2017-07-24T06:29:28.959444Z"
    }
   },
   "outputs": [],
   "source": [
    "buildings_df['raw_index'] = buildings_df.index\n",
    "print(buildings_df.crs)\n",
    "buildings_df.head()"
   ]
  },
  {
   "cell_type": "code",
   "execution_count": null,
   "metadata": {
    "ExecuteTime": {
     "end_time": "2017-07-24T06:29:30.221599Z",
     "start_time": "2017-07-24T06:29:29.956073Z"
    }
   },
   "outputs": [],
   "source": [
    "fig, ax = plt.subplots(figsize=(3,5))\n",
    "\n",
    "buildings_df['Destruction'] = buildings_df.apply(lambda x: 'Destruction' if x['Damage_ID'] =='GRADE 5 Destruction' else 'Non-destrctuion', axis=1)"
   ]
  },
  {
   "cell_type": "code",
   "execution_count": null,
   "metadata": {
    "ExecuteTime": {
     "end_time": "2017-07-24T06:29:50.240638Z",
     "start_time": "2017-07-24T06:29:50.237640Z"
    },
    "collapsed": true
   },
   "outputs": [],
   "source": [
    "utils = utils()"
   ]
  },
  {
   "cell_type": "code",
   "execution_count": null,
   "metadata": {
    "ExecuteTime": {
     "end_time": "2017-07-24T06:29:54.033819Z",
     "start_time": "2017-07-24T06:29:51.212028Z"
    },
    "collapsed": true
   },
   "outputs": [],
   "source": [
    "chips_dim = buildings_df.apply(lambda poly: pd.Series(utils.chip_dim(poly['geometry'],poly['image_id'])),axis=1)"
   ]
  },
  {
   "cell_type": "code",
   "execution_count": null,
   "metadata": {
    "ExecuteTime": {
     "end_time": "2017-07-24T06:29:54.959042Z",
     "start_time": "2017-07-24T06:29:54.947939Z"
    }
   },
   "outputs": [],
   "source": [
    "buildings_df = pd.concat([buildings_df, chips_dim], axis=1, join_axes=[chips_dim.index])\n",
    "buildings_df.shape"
   ]
  },
  {
   "cell_type": "code",
   "execution_count": null,
   "metadata": {
    "ExecuteTime": {
     "end_time": "2017-07-24T06:29:55.900318Z",
     "start_time": "2017-07-24T06:29:55.731930Z"
    }
   },
   "outputs": [],
   "source": [
    "min_dim = 10\n",
    "max_dim = 100\n",
    "\n",
    "chips_dim_min = chips_dim.apply(lambda chip: chip[0]>min_dim and chip[1]>min_dim,axis=1)\n",
    "chips_dim_max = chips_dim.apply(lambda chip: chip[0]<max_dim and chip[1]<max_dim,axis=1)\n",
    "\n",
    "chips_filter_dim = chips_dim_min & chips_dim_max\n",
    "print (chips_filter_dim.describe())"
   ]
  },
  {
   "cell_type": "code",
   "execution_count": null,
   "metadata": {
    "ExecuteTime": {
     "end_time": "2017-07-24T06:29:57.013414Z",
     "start_time": "2017-07-24T06:29:56.978306Z"
    },
    "collapsed": true
   },
   "outputs": [],
   "source": [
    "buildings_filter = buildings_df[chips_filter_dim]\n",
    "buildings_filter.reset_index(drop=True,inplace=True)"
   ]
  },
  {
   "cell_type": "code",
   "execution_count": null,
   "metadata": {
    "ExecuteTime": {
     "end_time": "2017-07-24T06:30:12.952219Z",
     "start_time": "2017-07-24T06:29:59.802666Z"
    }
   },
   "outputs": [],
   "source": [
    "chip_uni_ = []\n",
    "for x in range(len(buildings_filter)):\n",
    "    chip = utils.vector_clip_raster(buildings_filter.loc[x,'geometry'],buildings_filter.loc[x,'image_id'])         \n",
    "    chip = np.transpose(chip,(1,2,0))   ################## transpose ########\n",
    "    chip = utils.uniform_chips(chip,resize=False,max_dim=max_dim)\n",
    "    chip_uni_.append(chip)\n",
    "chip_uni = np.array(chip_uni_)\n",
    "chip_uni.nbytes/10**6"
   ]
  },
  {
   "cell_type": "code",
   "execution_count": null,
   "metadata": {
    "ExecuteTime": {
     "end_time": "2017-07-24T06:30:13.770541Z",
     "start_time": "2017-07-24T06:30:12.954062Z"
    }
   },
   "outputs": [],
   "source": [
    "for i in range(8):\n",
    "    plt.subplot(2, 4, i+1)\n",
    "    image = chip_uni[i, :, :, :]\n",
    "    plt.imshow(image)#, cmap='gray'\n",
    "    plt.axis('off')\n",
    "plt.tight_layout()"
   ]
  },
  {
   "cell_type": "markdown",
   "metadata": {},
   "source": [
    "### Modelling"
   ]
  },
  {
   "cell_type": "code",
   "execution_count": null,
   "metadata": {
    "ExecuteTime": {
     "end_time": "2017-07-24T06:30:40.982192Z",
     "start_time": "2017-07-24T06:30:40.688534Z"
    },
    "collapsed": true
   },
   "outputs": [],
   "source": [
    "X_train, X_test, y_train, y_test = model_selection.train_test_split(\n",
    "                    chip_uni, buildings_filter['Destruction'].values, test_size=0.33, random_state=42)"
   ]
  },
  {
   "cell_type": "code",
   "execution_count": null,
   "metadata": {
    "ExecuteTime": {
     "end_time": "2017-07-24T06:33:09.233456Z",
     "start_time": "2017-07-24T06:33:09.218270Z"
    }
   },
   "outputs": [],
   "source": [
    "positive = 0\n",
    "negative = 1\n",
    "# one-hot-label\n",
    "y_train_digits = [negative if bild=='Destruction' else positive for bild in y_train]\n",
    "y_train_ohl = keras.utils.to_categorical(y_train_digits, num_classes=2)\n",
    "\n",
    "y_true = [negative if bild=='Destruction' else positive for bild in y_test]\n",
    "\n",
    "print(y_train[0])\n",
    "print(y_train_digits[0])\n",
    "print(y_train_ohl[0])"
   ]
  },
  {
   "cell_type": "code",
   "execution_count": null,
   "metadata": {
    "ExecuteTime": {
     "end_time": "2017-07-24T06:33:10.782078Z",
     "start_time": "2017-07-24T06:33:10.779244Z"
    },
    "collapsed": true
   },
   "outputs": [],
   "source": [
    "from squeezenet import smallSqueezeNet"
   ]
  },
  {
   "cell_type": "code",
   "execution_count": null,
   "metadata": {
    "ExecuteTime": {
     "end_time": "2017-07-24T06:33:12.664969Z",
     "start_time": "2017-07-24T06:33:12.653683Z"
    },
    "collapsed": true
   },
   "outputs": [],
   "source": [
    "input_shape = (max_dim,max_dim,3)\n",
    "\n",
    "def sqzmodel(optimizer='adam', init='he_uniform',summary=False):\n",
    "    sqzNet = smallSqueezeNet(input_shape=input_shape, init=init)\n",
    "    sqzNet.compile(optimizer=optimizer, loss = losses.categorical_crossentropy, metrics=['accuracy'])\n",
    "    if summary:\n",
    "        sqzNet.summary()\n",
    "    return sqzNet"
   ]
  },
  {
   "cell_type": "code",
   "execution_count": null,
   "metadata": {
    "ExecuteTime": {
     "end_time": "2017-07-24T06:33:56.316716Z",
     "start_time": "2017-07-24T06:33:14.369331Z"
    }
   },
   "outputs": [],
   "source": [
    "kModel = KerasClassifier(build_fn=sqzmodel, batch_size=128, epochs=50, verbose=0)\n",
    "hist = kModel.fit(x=X_train, y=y_train_ohl,validation_split=0.1)"
   ]
  },
  {
   "cell_type": "code",
   "execution_count": null,
   "metadata": {
    "ExecuteTime": {
     "end_time": "2017-07-24T06:33:56.640291Z",
     "start_time": "2017-07-24T06:33:56.320446Z"
    },
    "collapsed": true
   },
   "outputs": [],
   "source": [
    "y_pred = kModel.model.predict(X_test)\n",
    "y_pred = np.argmax(y_pred,axis=1)"
   ]
  },
  {
   "cell_type": "code",
   "execution_count": null,
   "metadata": {
    "ExecuteTime": {
     "end_time": "2017-07-24T06:34:26.004382Z",
     "start_time": "2017-07-24T06:34:25.987203Z"
    }
   },
   "outputs": [],
   "source": [
    "cm = confusion_matrix(y_true, y_pred)\n",
    "print (cm)\n",
    "\n",
    "print(accuracy_score(y_true, y_pred))\n",
    "print (precision_score(y_true,y_pred))\n",
    "print (recall_score(y_true,y_pred))\n",
    "print (f1_score(y_true,y_pred))"
   ]
  },
  {
   "cell_type": "code",
   "execution_count": null,
   "metadata": {
    "ExecuteTime": {
     "end_time": "2017-07-24T06:35:04.051359Z",
     "start_time": "2017-07-24T06:35:04.037448Z"
    }
   },
   "outputs": [],
   "source": [
    "print(classification_report(y_true, y_pred, target_names=['Non-Destruction','Destruction']))"
   ]
  },
  {
   "cell_type": "code",
   "execution_count": null,
   "metadata": {
    "ExecuteTime": {
     "end_time": "2017-07-24T06:37:32.436830Z",
     "start_time": "2017-07-24T06:37:31.926687Z"
    }
   },
   "outputs": [],
   "source": [
    "y_pred_prob = kModel.model.predict(X_test)\n",
    "plot_roc_curve(y_true, y_pred_prob[:,1])"
   ]
  },
  {
   "cell_type": "markdown",
   "metadata": {},
   "source": [
    "### Under Sampling"
   ]
  },
  {
   "cell_type": "code",
   "execution_count": null,
   "metadata": {
    "ExecuteTime": {
     "end_time": "2017-07-24T06:36:16.900391Z",
     "start_time": "2017-07-24T06:36:15.921741Z"
    },
    "collapsed": true
   },
   "outputs": [],
   "source": [
    "from imblearn.under_sampling import OneSidedSelection"
   ]
  },
  {
   "cell_type": "code",
   "execution_count": null,
   "metadata": {
    "ExecuteTime": {
     "end_time": "2017-07-24T06:36:22.605073Z",
     "start_time": "2017-07-24T06:36:17.966982Z"
    }
   },
   "outputs": [],
   "source": [
    "pca = PCA(n_components=30)\n",
    "X_train_PCA = pca.fit_transform(X_train.reshape(X_train.shape[0],-1))\n",
    "X_train_PCA.shape"
   ]
  },
  {
   "cell_type": "code",
   "execution_count": null,
   "metadata": {
    "ExecuteTime": {
     "end_time": "2017-07-24T06:36:23.634826Z",
     "start_time": "2017-07-24T06:36:23.552227Z"
    },
    "collapsed": true
   },
   "outputs": [],
   "source": [
    "oss = OneSidedSelection(return_indices=True,random_state=42)\n",
    "X_resampled, y_resampled, idx_resampled = oss.fit_sample(X_train_PCA, y_train)"
   ]
  },
  {
   "cell_type": "code",
   "execution_count": null,
   "metadata": {
    "ExecuteTime": {
     "end_time": "2017-07-24T06:36:24.372494Z",
     "start_time": "2017-07-24T06:36:24.244780Z"
    }
   },
   "outputs": [],
   "source": [
    "np.random.shuffle(idx_resampled)\n",
    "\n",
    "X_train_us = X_train[idx_resampled]\n",
    "y_train_us = y_train[idx_resampled]\n",
    "\n",
    "X_train_us.shape,y_train_us.shape"
   ]
  },
  {
   "cell_type": "code",
   "execution_count": null,
   "metadata": {
    "ExecuteTime": {
     "end_time": "2017-07-24T06:38:00.290272Z",
     "start_time": "2017-07-24T06:38:00.282611Z"
    },
    "collapsed": true
   },
   "outputs": [],
   "source": [
    "y_train_us_digits = [negative if bild=='Destruction' else positive for bild in y_train_us]\n",
    "y_train_us_ohl = keras.utils.to_categorical(y_train_us_digits, num_classes=2)"
   ]
  },
  {
   "cell_type": "code",
   "execution_count": null,
   "metadata": {
    "ExecuteTime": {
     "end_time": "2017-07-24T06:38:41.135461Z",
     "start_time": "2017-07-24T06:38:01.842370Z"
    },
    "scrolled": true
   },
   "outputs": [],
   "source": [
    "kModel = KerasClassifier(build_fn=sqzmodel, batch_size=128, epochs=50, verbose=0)\n",
    "hist = kModel.fit(x=X_train_us, y=y_train_us_ohl,validation_split=0.1)"
   ]
  },
  {
   "cell_type": "code",
   "execution_count": null,
   "metadata": {
    "ExecuteTime": {
     "end_time": "2017-07-24T06:38:41.521245Z",
     "start_time": "2017-07-24T06:38:41.137323Z"
    },
    "collapsed": true
   },
   "outputs": [],
   "source": [
    "y_pred=kModel.model.predict(X_test)\n",
    "y_pred = np.argmax(y_pred,axis=1)"
   ]
  },
  {
   "cell_type": "code",
   "execution_count": null,
   "metadata": {
    "ExecuteTime": {
     "end_time": "2017-07-24T06:38:53.103727Z",
     "start_time": "2017-07-24T06:38:53.096329Z"
    }
   },
   "outputs": [],
   "source": [
    "cm = confusion_matrix(y_true, y_pred)\n",
    "print (cm)"
   ]
  },
  {
   "cell_type": "code",
   "execution_count": null,
   "metadata": {
    "ExecuteTime": {
     "end_time": "2017-07-24T06:38:54.570924Z",
     "start_time": "2017-07-24T06:38:54.555348Z"
    }
   },
   "outputs": [],
   "source": [
    "print('\\n')\n",
    "print(accuracy_score(y_true, y_pred))\n",
    "print (precision_score(y_true,y_pred))\n",
    "print (recall_score(y_true,y_pred))\n",
    "print (f1_score(y_true,y_pred))"
   ]
  },
  {
   "cell_type": "code",
   "execution_count": null,
   "metadata": {
    "ExecuteTime": {
     "end_time": "2017-07-24T06:39:01.478960Z",
     "start_time": "2017-07-24T06:39:01.460532Z"
    }
   },
   "outputs": [],
   "source": [
    "print(classification_report(y_true, y_pred, target_names=['Non-Destruction','Destruction']))"
   ]
  },
  {
   "cell_type": "code",
   "execution_count": null,
   "metadata": {
    "ExecuteTime": {
     "end_time": "2017-07-24T06:39:09.697186Z",
     "start_time": "2017-07-24T06:39:09.183667Z"
    }
   },
   "outputs": [],
   "source": [
    "y_pred_prob = kModel.model.predict_on_batch(X_test)\n",
    "plot_roc_curve(y_true, y_pred_prob[:,1])"
   ]
  },
  {
   "cell_type": "markdown",
   "metadata": {},
   "source": [
    "### Comparison"
   ]
  },
  {
   "cell_type": "code",
   "execution_count": null,
   "metadata": {
    "ExecuteTime": {
     "end_time": "2017-07-16T14:14:33.470779Z",
     "start_time": "2017-07-16T14:14:33.467879Z"
    },
    "collapsed": true
   },
   "outputs": [],
   "source": [
    "# import h5py\n",
    "\n",
    "# f = h5py.File('./models/'+base_model_name+'.h5', 'r+')\n",
    "# del f['optimizer_weights']\n",
    "# f.close()"
   ]
  },
  {
   "cell_type": "code",
   "execution_count": null,
   "metadata": {
    "ExecuteTime": {
     "end_time": "2017-07-16T14:15:02.734290Z",
     "start_time": "2017-07-16T14:15:02.724387Z"
    },
    "collapsed": true
   },
   "outputs": [],
   "source": [
    "sns.set(font_scale=1.2)\n",
    "\n",
    "from pylab import rcParams\n",
    "rcParams['figure.figsize'] = 5, 5"
   ]
  },
  {
   "cell_type": "code",
   "execution_count": null,
   "metadata": {
    "ExecuteTime": {
     "end_time": "2017-07-16T14:16:11.678359Z",
     "start_time": "2017-07-16T14:16:11.273542Z"
    }
   },
   "outputs": [],
   "source": [
    "demo_index = [74,700,703,64]\n",
    "demos = X_test[demo_index, :, :, :]\n",
    "\n",
    "for i in np.arange(shape(demos)[0]):\n",
    "    plt.subplot(1, 4, i+1)\n",
    "    img = demos[i,:,:,:]\n",
    "    plt.imshow(img)\n",
    "    plt.axis('off')\n",
    "plt.tight_layout()"
   ]
  },
  {
   "cell_type": "code",
   "execution_count": null,
   "metadata": {
    "ExecuteTime": {
     "end_time": "2017-07-16T14:16:12.036782Z",
     "start_time": "2017-07-16T14:16:12.016427Z"
    }
   },
   "outputs": [],
   "source": [
    "demo_pred = base_model.predict(demos)\n",
    "np.around(demo_pred,3)"
   ]
  },
  {
   "cell_type": "code",
   "execution_count": null,
   "metadata": {
    "ExecuteTime": {
     "end_time": "2017-07-16T14:16:12.385882Z",
     "start_time": "2017-07-16T14:16:12.371759Z"
    }
   },
   "outputs": [],
   "source": [
    "demo_pred = oss_model.predict(demos)\n",
    "np.around(demo_pred,3)"
   ]
  },
  {
   "cell_type": "code",
   "execution_count": null,
   "metadata": {
    "ExecuteTime": {
     "end_time": "2017-07-16T14:16:14.618717Z",
     "start_time": "2017-07-16T14:16:14.614513Z"
    },
    "collapsed": true
   },
   "outputs": [],
   "source": [
    "_, Index_test= model_selection.train_test_split(buildings_filter['raw_index'].values, test_size=0.33, random_state=42)"
   ]
  },
  {
   "cell_type": "code",
   "execution_count": null,
   "metadata": {
    "ExecuteTime": {
     "end_time": "2017-07-16T14:16:15.225704Z",
     "start_time": "2017-07-16T14:16:15.213793Z"
    },
    "collapsed": true
   },
   "outputs": [],
   "source": [
    "def reclassify(x):\n",
    "    if x[0]==0 and x[1]==0:\n",
    "        return 'TN'\n",
    "    elif x[0]==0 and x[1]==1:\n",
    "        return 'FN'\n",
    "    elif x[0]==1 and x[1]==1:\n",
    "        return 'TD'\n",
    "    elif x[0]==1 and x[1]==0:\n",
    "        return 'FD'\n",
    "    else:\n",
    "        return 0"
   ]
  },
  {
   "cell_type": "code",
   "execution_count": null,
   "metadata": {
    "ExecuteTime": {
     "end_time": "2017-07-16T14:28:49.245830Z",
     "start_time": "2017-07-16T14:28:49.191508Z"
    },
    "collapsed": true
   },
   "outputs": [],
   "source": [
    "base_tr_pr = gpd.GeoDataFrame([list(y_true), list(base_y_pred)]).T #{'init':'epsg:4326'}\n",
    "base_tr_pr.columns = ['label','sqz']\n",
    "\n",
    "base_tr_pr['classify'] = base_tr_pr.apply(reclassify, axis=1)\n",
    "base_tr_pr.index = Index_test\n",
    "base_tr_pr['geometry'] = buildings_df.loc[Index_test,'geometry']\n",
    "base_tr_pr.crs={'init':'epsg:4326'}\n",
    "\n",
    "base_tr_pr.to_file('./base_model.shp', driver = 'ESRI Shapefile')"
   ]
  },
  {
   "cell_type": "code",
   "execution_count": null,
   "metadata": {
    "ExecuteTime": {
     "end_time": "2017-07-16T14:26:41.124574Z",
     "start_time": "2017-07-16T14:26:41.066839Z"
    },
    "collapsed": true
   },
   "outputs": [],
   "source": []
  },
  {
   "cell_type": "code",
   "execution_count": null,
   "metadata": {
    "ExecuteTime": {
     "end_time": "2017-07-16T14:26:42.273086Z",
     "start_time": "2017-07-16T14:26:42.233193Z"
    },
    "collapsed": true
   },
   "outputs": [],
   "source": [
    "oss_tr_pr = gpd.GeoDataFrame([list(y_true), list(oss_y_pred)]).T #{'init':'epsg:4326'}\n",
    "oss_tr_pr.columns = ['label','oss_sqz']\n",
    "\n",
    "oss_tr_pr['classify'] = oss_tr_pr.apply(reclassify, axis=1)\n",
    "oss_tr_pr.index = Index_test\n",
    "oss_tr_pr['geometry'] = buildings_df.loc[Index_test,'geometry']\n",
    "oss_tr_pr.crs={'init':'epsg:4326'}\n",
    "\n",
    "oss_tr_pr.to_file('./oss_model.shp', driver = 'ESRI Shapefile')"
   ]
  },
  {
   "cell_type": "code",
   "execution_count": null,
   "metadata": {
    "collapsed": true
   },
   "outputs": [],
   "source": []
  }
 ],
 "metadata": {
  "kernelspec": {
   "display_name": "Python 3",
   "language": "python",
   "name": "python3"
  },
  "language_info": {
   "codemirror_mode": {
    "name": "ipython",
    "version": 3
   },
   "file_extension": ".py",
   "mimetype": "text/x-python",
   "name": "python",
   "nbconvert_exporter": "python",
   "pygments_lexer": "ipython3",
   "version": "3.5.2"
  },
  "toc": {
   "colors": {
    "hover_highlight": "#DAA520",
    "navigate_num": "#000000",
    "navigate_text": "#333333",
    "running_highlight": "#FF0000",
    "selected_highlight": "#FFD700",
    "sidebar_border": "#EEEEEE",
    "wrapper_background": "#FFFFFF"
   },
   "moveMenuLeft": true,
   "nav_menu": {
    "height": "84px",
    "width": "252px"
   },
   "navigate_menu": true,
   "number_sections": true,
   "sideBar": true,
   "threshold": 4,
   "toc_cell": false,
   "toc_section_display": "block",
   "toc_window_display": false,
   "widenNotebook": false
  }
 },
 "nbformat": 4,
 "nbformat_minor": 2
}
