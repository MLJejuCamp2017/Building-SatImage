{
 "cells": [
  {
   "cell_type": "code",
   "execution_count": null,
   "metadata": {
    "ExecuteTime": {
     "end_time": "2017-07-25T03:04:40.186816Z",
     "start_time": "2017-07-25T03:04:39.926890Z"
    }
   },
   "outputs": [],
   "source": [
    "%pylab inline"
   ]
  },
  {
   "cell_type": "code",
   "execution_count": null,
   "metadata": {
    "ExecuteTime": {
     "end_time": "2017-07-25T03:04:49.071664Z",
     "start_time": "2017-07-25T03:04:40.188373Z"
    },
    "collapsed": true
   },
   "outputs": [],
   "source": [
    "import tensorflow as tf\n",
    "from tensorflow.contrib import keras\n",
    "from tensorflow.contrib.keras.python.keras import models, losses\n",
    "from tensorflow.contrib.keras.python.keras.layers.core import Dense,Reshape,Flatten, Dropout\n",
    "from tensorflow.contrib.keras.python.keras.layers.pooling import MaxPool2D\n",
    "from tensorflow.contrib.keras.python.keras.layers.convolutional import ZeroPadding2D, Conv2D\n",
    "from tensorflow.contrib.keras.python.keras.layers.merge import Concatenate, Add\n",
    "from tensorflow.contrib.keras.python.keras.layers.recurrent import LSTM, GRU\n",
    "from tensorflow.contrib.keras.python.keras.layers.pooling import MaxPool2D\n",
    "from tensorflow.contrib.keras.python.keras.wrappers.scikit_learn import KerasClassifier"
   ]
  },
  {
   "cell_type": "code",
   "execution_count": null,
   "metadata": {
    "ExecuteTime": {
     "end_time": "2017-07-25T03:04:49.988612Z",
     "start_time": "2017-07-25T03:04:49.073700Z"
    },
    "collapsed": true
   },
   "outputs": [],
   "source": [
    "# basic\n",
    "import os\n",
    "import random\n",
    "import json\n",
    "import copy\n",
    "import pandas as pd\n",
    "import seaborn as sns\n",
    "sns.set(style=\"darkgrid\")\n",
    "\n",
    "# geo-related\n",
    "from osgeo import gdal\n",
    "import geopandas as gpd\n",
    "import folium\n",
    "from folium import plugins\n",
    "\n",
    "# scikit-learn\n",
    "from sklearn import model_selection\n",
    "from sklearn.metrics import confusion_matrix, accuracy_score, precision_score, recall_score, f1_score\n",
    "from sklearn.decomposition import PCA\n",
    "from sklearn.metrics import classification_report\n",
    "from sklearn.metrics import roc_curve, auc\n",
    "\n",
    "from rscnn_utils import utils"
   ]
  },
  {
   "cell_type": "code",
   "execution_count": null,
   "metadata": {
    "ExecuteTime": {
     "end_time": "2017-07-25T03:04:49.996235Z",
     "start_time": "2017-07-25T03:04:49.990808Z"
    },
    "collapsed": true
   },
   "outputs": [],
   "source": [
    "seed = 7\n",
    "random.seed(seed)\n",
    "np.random.seed(seed)\n",
    "tf.set_random_seed(seed)"
   ]
  },
  {
   "cell_type": "code",
   "execution_count": null,
   "metadata": {
    "ExecuteTime": {
     "end_time": "2017-07-25T03:04:50.021893Z",
     "start_time": "2017-07-25T03:04:49.998952Z"
    },
    "collapsed": true
   },
   "outputs": [],
   "source": [
    "def plot_roc_curve(y_true, y_pred_prob):\n",
    "   # Compute micro-average ROC curve and ROC area\n",
    "    fpr, tpr, _ = roc_curve(y_true, y_pred_prob)\n",
    "    # fpr, tpr, _ = roc_curve(y_true_ohl.ravel(), y_pred_prob.ravel())\n",
    "\n",
    "    roc_auc = auc(fpr, tpr) \n",
    "    \n",
    "    plt.figure()\n",
    "    lw = 2\n",
    "    plt.plot(fpr, tpr, color='darkorange',\n",
    "             lw=lw, label='ROC curve (area = %0.2f)' % roc_auc)\n",
    "    plt.plot([0, 1], [0, 1], color='navy', lw=lw, linestyle='--')\n",
    "    plt.xlim([0.0, 1.0])\n",
    "    plt.ylim([0.0, 1.05])\n",
    "    plt.xlabel('False Positive Rate')\n",
    "    plt.ylabel('True Positive Rate')\n",
    "    plt.title('Receiver operating characteristic example')\n",
    "    plt.legend(loc=\"lower right\")\n",
    "    plt.show()"
   ]
  },
  {
   "cell_type": "code",
   "execution_count": null,
   "metadata": {
    "ExecuteTime": {
     "end_time": "2017-07-25T03:04:50.172253Z",
     "start_time": "2017-07-25T03:04:50.026267Z"
    },
    "collapsed": true
   },
   "outputs": [],
   "source": [
    "folder = './buildData/'\n",
    "\n",
    "ht = gdal.Open(os.path.join(folder,'mosaic_post.tif'))\n",
    "gt = ht.GetGeoTransform()\n",
    "\n",
    "buildings_df = gpd.read_file(os.path.join(folder,'building_post_id_join_reclassified.shp'))\n",
    "buildings_df['image_id']='mosaic_post'"
   ]
  },
  {
   "cell_type": "code",
   "execution_count": null,
   "metadata": {
    "ExecuteTime": {
     "end_time": "2017-07-25T03:04:50.194637Z",
     "start_time": "2017-07-25T03:04:50.174380Z"
    }
   },
   "outputs": [],
   "source": [
    "buildings_df['raw_index'] = buildings_df.index\n",
    "print(buildings_df.crs)\n",
    "buildings_df.head()"
   ]
  },
  {
   "cell_type": "code",
   "execution_count": null,
   "metadata": {
    "ExecuteTime": {
     "end_time": "2017-07-25T03:04:50.245099Z",
     "start_time": "2017-07-25T03:04:50.197018Z"
    },
    "collapsed": true
   },
   "outputs": [],
   "source": [
    "buildings_df['Destruction'] = buildings_df.apply(lambda x: 'Destruction' if x['Damage_ID'] =='GRADE 5 Destruction' else 'Non-destrctuion', axis=1)"
   ]
  },
  {
   "cell_type": "code",
   "execution_count": null,
   "metadata": {
    "ExecuteTime": {
     "end_time": "2017-07-25T03:04:50.475355Z",
     "start_time": "2017-07-25T03:04:50.472018Z"
    },
    "collapsed": true
   },
   "outputs": [],
   "source": [
    "utils = utils()"
   ]
  },
  {
   "cell_type": "code",
   "execution_count": null,
   "metadata": {
    "ExecuteTime": {
     "end_time": "2017-07-25T03:04:53.050132Z",
     "start_time": "2017-07-25T03:04:50.477851Z"
    },
    "collapsed": true
   },
   "outputs": [],
   "source": [
    "chips_dim = buildings_df.apply(lambda poly: pd.Series(utils.chip_dim(poly['geometry'],poly['image_id'])),axis=1)"
   ]
  },
  {
   "cell_type": "code",
   "execution_count": null,
   "metadata": {
    "ExecuteTime": {
     "end_time": "2017-07-25T03:04:53.059911Z",
     "start_time": "2017-07-25T03:04:53.052295Z"
    }
   },
   "outputs": [],
   "source": [
    "buildings_df = pd.concat([buildings_df, chips_dim], axis=1, join_axes=[chips_dim.index])\n",
    "buildings_df.shape"
   ]
  },
  {
   "cell_type": "code",
   "execution_count": null,
   "metadata": {
    "ExecuteTime": {
     "end_time": "2017-07-25T03:04:53.226263Z",
     "start_time": "2017-07-25T03:04:53.062389Z"
    }
   },
   "outputs": [],
   "source": [
    "min_dim = 10\n",
    "max_dim = 100\n",
    "\n",
    "chips_dim_min = chips_dim.apply(lambda chip: chip[0]>min_dim and chip[1]>min_dim,axis=1)\n",
    "chips_dim_max = chips_dim.apply(lambda chip: chip[0]<max_dim and chip[1]<max_dim,axis=1)\n",
    "\n",
    "chips_filter_dim = chips_dim_min & chips_dim_max\n",
    "print (chips_filter_dim.describe())"
   ]
  },
  {
   "cell_type": "markdown",
   "metadata": {},
   "source": [
    "#### post- Data"
   ]
  },
  {
   "cell_type": "code",
   "execution_count": null,
   "metadata": {
    "ExecuteTime": {
     "end_time": "2017-07-25T03:04:53.237423Z",
     "start_time": "2017-07-25T03:04:53.228655Z"
    }
   },
   "outputs": [],
   "source": [
    "buildings_filter = buildings_df[chips_filter_dim]\n",
    "buildings_filter.reset_index(drop=True,inplace=True)"
   ]
  },
  {
   "cell_type": "code",
   "execution_count": null,
   "metadata": {
    "ExecuteTime": {
     "end_time": "2017-07-25T03:04:59.683840Z",
     "start_time": "2017-07-25T03:04:53.240207Z"
    },
    "collapsed": true
   },
   "outputs": [],
   "source": [
    "chip_uni_ = []\n",
    "for x in range(len(buildings_filter)):\n",
    "    chip = utils.vector_clip_raster(buildings_filter.loc[x,'geometry'],buildings_filter.loc[x,'image_id'])         \n",
    "    chip = np.transpose(chip,(1,2,0))   ################## transpose ########\n",
    "    chip = utils.uniform_chips(chip,resize=False,max_dim=max_dim)\n",
    "    chip_uni_.append(chip)"
   ]
  },
  {
   "cell_type": "code",
   "execution_count": null,
   "metadata": {
    "ExecuteTime": {
     "end_time": "2017-07-25T03:04:59.877318Z",
     "start_time": "2017-07-25T03:04:59.685905Z"
    },
    "scrolled": true
   },
   "outputs": [],
   "source": [
    "chip_uni = np.array(chip_uni_)\n",
    "\n",
    "chip_uni.nbytes/10**6"
   ]
  },
  {
   "cell_type": "markdown",
   "metadata": {},
   "source": [
    "#### pre- Data"
   ]
  },
  {
   "cell_type": "code",
   "execution_count": null,
   "metadata": {
    "ExecuteTime": {
     "end_time": "2017-07-25T03:04:59.885508Z",
     "start_time": "2017-07-25T03:04:59.879822Z"
    },
    "collapsed": true
   },
   "outputs": [],
   "source": [
    "pre_buildings_filter = copy.deepcopy(buildings_filter)\n",
    "pre_buildings_filter['image_id']='mosaic_pre_registered'"
   ]
  },
  {
   "cell_type": "code",
   "execution_count": null,
   "metadata": {
    "ExecuteTime": {
     "end_time": "2017-07-25T03:05:06.363694Z",
     "start_time": "2017-07-25T03:04:59.888075Z"
    },
    "collapsed": true
   },
   "outputs": [],
   "source": [
    "pre_chip_uni_ = []\n",
    "for x in range(len(pre_buildings_filter)):\n",
    "    chip = utils.vector_clip_raster(pre_buildings_filter.loc[x,'geometry'],pre_buildings_filter.loc[x,'image_id'])         \n",
    "    chip = np.transpose(chip,(1,2,0))   ################## transpose ########\n",
    "    chip = utils.uniform_chips(chip,resize=False,max_dim=max_dim)\n",
    "    pre_chip_uni_.append(chip)\n",
    "    \n",
    "pre_chip_uni = np.array(pre_chip_uni_)\n",
    "pre_chip_uni.nbytes/10**6"
   ]
  },
  {
   "cell_type": "markdown",
   "metadata": {},
   "source": [
    "#### Diff (pre- & post-)"
   ]
  },
  {
   "cell_type": "code",
   "execution_count": null,
   "metadata": {
    "ExecuteTime": {
     "end_time": "2017-07-25T03:05:06.815292Z",
     "start_time": "2017-07-25T03:05:06.565493Z"
    },
    "collapsed": true
   },
   "outputs": [],
   "source": [
    "diff = chip_uni-pre_chip_uni"
   ]
  },
  {
   "cell_type": "markdown",
   "metadata": {
    "ExecuteTime": {
     "end_time": "2017-07-06T06:27:22.924329Z",
     "start_time": "2017-07-06T06:27:22.921620Z"
    }
   },
   "source": [
    "### Modelling"
   ]
  },
  {
   "cell_type": "markdown",
   "metadata": {},
   "source": [
    "#### CNN-diff"
   ]
  },
  {
   "cell_type": "code",
   "execution_count": null,
   "metadata": {
    "ExecuteTime": {
     "end_time": "2017-07-25T03:05:07.017042Z",
     "start_time": "2017-07-25T03:05:06.817517Z"
    },
    "collapsed": true
   },
   "outputs": [],
   "source": [
    "diff_X_train, diff_X_test, diff_y_train, diff_y_test = model_selection.train_test_split(\n",
    "                    diff, pre_buildings_filter['Destruction'].values, test_size=0.33, random_state=42)"
   ]
  },
  {
   "cell_type": "code",
   "execution_count": null,
   "metadata": {
    "ExecuteTime": {
     "end_time": "2017-07-25T03:05:07.033987Z",
     "start_time": "2017-07-25T03:05:07.019210Z"
    }
   },
   "outputs": [],
   "source": [
    "positive = 0\n",
    "negative = 1\n",
    "\n",
    "# one-hot-label\n",
    "y_train_digits = [negative if bild=='Destruction' else positive for bild in diff_y_train]\n",
    "y_train_ohl = keras.utils.to_categorical(y_train_digits, num_classes=2)\n",
    "\n",
    "y_true = [negative if bild=='Destruction' else positive for bild in diff_y_test]\n",
    "\n",
    "print(diff_y_train[0])\n",
    "print(y_train_digits[0])\n",
    "print(y_train_ohl[0])"
   ]
  },
  {
   "cell_type": "code",
   "execution_count": null,
   "metadata": {
    "ExecuteTime": {
     "end_time": "2017-07-25T03:05:07.049882Z",
     "start_time": "2017-07-25T03:05:07.043158Z"
    },
    "collapsed": true
   },
   "outputs": [],
   "source": [
    "from squeezenet import smallSqueezeNet"
   ]
  },
  {
   "cell_type": "code",
   "execution_count": null,
   "metadata": {
    "ExecuteTime": {
     "end_time": "2017-07-25T03:05:07.063609Z",
     "start_time": "2017-07-25T03:05:07.052496Z"
    },
    "collapsed": true
   },
   "outputs": [],
   "source": [
    "input_shape = (max_dim,max_dim,3)\n",
    "\n",
    "def sqzmodel(optimizer='adam', init='he_uniform',summary=False):\n",
    "    sqzNet = smallSqueezeNet(input_shape=input_shape, init=init)\n",
    "    sqzNet.compile(optimizer=optimizer, loss = losses.categorical_crossentropy, metrics=['accuracy'])\n",
    "    if summary:\n",
    "        sqzNet.summary()\n",
    "    return sqzNet"
   ]
  },
  {
   "cell_type": "code",
   "execution_count": null,
   "metadata": {
    "ExecuteTime": {
     "end_time": "2017-07-25T03:06:03.378906Z",
     "start_time": "2017-07-25T03:05:07.076356Z"
    },
    "scrolled": true
   },
   "outputs": [],
   "source": [
    "kModel = KerasClassifier(build_fn=sqzmodel, batch_size=128, epochs=50, verbose=1)\n",
    "hist = kModel.fit(x=diff_X_train, y=y_train_ohl,validation_split=0.1)"
   ]
  },
  {
   "cell_type": "code",
   "execution_count": null,
   "metadata": {
    "ExecuteTime": {
     "end_time": "2017-07-25T03:06:03.698390Z",
     "start_time": "2017-07-25T03:06:03.381587Z"
    },
    "collapsed": true
   },
   "outputs": [],
   "source": [
    "y_pred=kModel.model.predict(diff_X_test)\n",
    "y_pred = np.argmax(y_pred,axis=1)"
   ]
  },
  {
   "cell_type": "code",
   "execution_count": null,
   "metadata": {
    "ExecuteTime": {
     "end_time": "2017-07-25T03:06:03.717694Z",
     "start_time": "2017-07-25T03:06:03.702570Z"
    }
   },
   "outputs": [],
   "source": [
    "cm = confusion_matrix(y_true, y_pred)\n",
    "print (cm)\n",
    "\n",
    "print(accuracy_score(y_true, y_pred))\n",
    "print (precision_score(y_true,y_pred))\n",
    "print (recall_score(y_true,y_pred))\n",
    "print (f1_score(y_true,y_pred))"
   ]
  },
  {
   "cell_type": "code",
   "execution_count": null,
   "metadata": {
    "ExecuteTime": {
     "end_time": "2017-07-25T03:06:03.727425Z",
     "start_time": "2017-07-25T03:06:03.720117Z"
    }
   },
   "outputs": [],
   "source": [
    "print(classification_report(y_true, y_pred, target_names=['no Destruction','Destruction']))"
   ]
  },
  {
   "cell_type": "code",
   "execution_count": null,
   "metadata": {
    "ExecuteTime": {
     "end_time": "2017-07-25T03:06:04.254025Z",
     "start_time": "2017-07-25T03:06:03.730247Z"
    }
   },
   "outputs": [],
   "source": [
    "y_pred_prob = kModel.model.predict(diff_X_test)\n",
    "plot_roc_curve(y_true, y_pred_prob[:,1])"
   ]
  },
  {
   "cell_type": "markdown",
   "metadata": {
    "ExecuteTime": {
     "end_time": "2017-07-14T04:54:59.769827Z",
     "start_time": "2017-07-14T04:38:42.032Z"
    }
   },
   "source": [
    "### SqueezeNet + GRU/LSTM"
   ]
  },
  {
   "cell_type": "code",
   "execution_count": null,
   "metadata": {
    "ExecuteTime": {
     "end_time": "2017-07-25T03:06:04.459844Z",
     "start_time": "2017-07-25T03:06:04.257969Z"
    },
    "collapsed": true
   },
   "outputs": [],
   "source": [
    "X_train, X_test, y_train, y_test = model_selection.train_test_split(\n",
    "                    chip_uni, buildings_filter['Destruction'].values, test_size=0.33, random_state=42)"
   ]
  },
  {
   "cell_type": "code",
   "execution_count": null,
   "metadata": {
    "ExecuteTime": {
     "end_time": "2017-07-25T03:06:04.662396Z",
     "start_time": "2017-07-25T03:06:04.461939Z"
    },
    "collapsed": true
   },
   "outputs": [],
   "source": [
    "pre_X_train, pre_X_test, pre_y_train, pre_y_test = model_selection.train_test_split(\n",
    "                    pre_chip_uni, pre_buildings_filter['Destruction'].values, test_size=0.33, random_state=42)"
   ]
  },
  {
   "cell_type": "code",
   "execution_count": null,
   "metadata": {
    "ExecuteTime": {
     "end_time": "2017-07-25T03:13:46.698358Z",
     "start_time": "2017-07-25T03:13:46.670381Z"
    },
    "collapsed": true
   },
   "outputs": [],
   "source": [
    "from tensorflow.contrib.keras.python.keras.layers import Input\n",
    "\n",
    "def squeezeLSTM(input_shape=input_shape, classes=128, summary=False):\n",
    "    pre_input = Input(shape=input_shape)\n",
    "    left = smallSqueezeNet(input_tensor=pre_input,classes=128,return_features=True)\n",
    "    post_input = Input(shape=input_shape)\n",
    "    right = smallSqueezeNet(input_tensor=post_input,classes=128,return_features=True)\n",
    "    x = concatenate([left, right], axis=1) # K.image_data_format() == 'channels_last'\n",
    "    x = Reshape((-1,128))(x)\n",
    "    x = GRU(128, dropout=0.5, return_sequences=False)(x)\n",
    "    x = Dense(48, activation='relu')(x)\n",
    "    output = Dense(2, activation='sigmoid', name='main_output')(x) # sigmoid\n",
    "\n",
    "    model = Model(inputs=[pre_input, post_input], outputs=[output])\n",
    "    model.compile(optimizer='adam', loss='binary_crossentropy', metrics=['accuracy'])\n",
    "    if summary:\n",
    "        model.summary()\n",
    "    return model"
   ]
  },
  {
   "cell_type": "code",
   "execution_count": null,
   "metadata": {
    "ExecuteTime": {
     "end_time": "2017-07-25T03:15:40.114246Z",
     "start_time": "2017-07-25T03:13:48.078525Z"
    },
    "scrolled": true
   },
   "outputs": [],
   "source": [
    "kModel = KerasClassifier(build_fn=squeezeLSTM, batch_size=128, epochs=50, verbose=1)\n",
    "hist = kModel.fit(x=[pre_X_train,X_train], y=y_train_ohl,validation_split=0.1)"
   ]
  },
  {
   "cell_type": "code",
   "execution_count": null,
   "metadata": {
    "ExecuteTime": {
     "end_time": "2017-07-25T03:23:42.124283Z",
     "start_time": "2017-07-25T03:23:41.460571Z"
    },
    "collapsed": true
   },
   "outputs": [],
   "source": [
    "y_pred = kModel.model.predict([pre_X_test, X_test])\n",
    "y_pred = np.argmax(y_pred,axis=1)"
   ]
  },
  {
   "cell_type": "code",
   "execution_count": null,
   "metadata": {
    "ExecuteTime": {
     "end_time": "2017-07-25T03:24:34.282964Z",
     "start_time": "2017-07-25T03:24:34.265283Z"
    }
   },
   "outputs": [],
   "source": [
    "cm = confusion_matrix(y_true, y_pred)\n",
    "print (cm)\n",
    "print (accuracy_score(y_true,y_pred))\n",
    "print (precision_score(y_true,y_pred))\n",
    "print (recall_score(y_true,y_pred))\n",
    "print (f1_score(y_true,y_pred))"
   ]
  },
  {
   "cell_type": "code",
   "execution_count": null,
   "metadata": {
    "ExecuteTime": {
     "end_time": "2017-07-25T03:24:47.851334Z",
     "start_time": "2017-07-25T03:24:47.845853Z"
    }
   },
   "outputs": [],
   "source": [
    "print(classification_report(y_true, y_pred, target_names=['no Destruction','Destruction']))"
   ]
  },
  {
   "cell_type": "code",
   "execution_count": null,
   "metadata": {
    "ExecuteTime": {
     "end_time": "2017-07-25T03:24:53.600820Z",
     "start_time": "2017-07-25T03:24:52.817989Z"
    }
   },
   "outputs": [],
   "source": [
    "y_pred_prob = kModel.model.predict([pre_X_test, X_test])\n",
    "plot_roc_curve(y_true, y_pred_prob[:,1])"
   ]
  }
 ],
 "metadata": {
  "kernelspec": {
   "display_name": "Python 3",
   "language": "python",
   "name": "python3"
  },
  "language_info": {
   "codemirror_mode": {
    "name": "ipython",
    "version": 3
   },
   "file_extension": ".py",
   "mimetype": "text/x-python",
   "name": "python",
   "nbconvert_exporter": "python",
   "pygments_lexer": "ipython3",
   "version": "3.5.2"
  },
  "toc": {
   "colors": {
    "hover_highlight": "#DAA520",
    "navigate_num": "#000000",
    "navigate_text": "#333333",
    "running_highlight": "#FF0000",
    "selected_highlight": "#FFD700",
    "sidebar_border": "#EEEEEE",
    "wrapper_background": "#FFFFFF"
   },
   "moveMenuLeft": true,
   "nav_menu": {
    "height": "66px",
    "width": "252px"
   },
   "navigate_menu": true,
   "number_sections": true,
   "sideBar": true,
   "threshold": 4,
   "toc_cell": false,
   "toc_section_display": "block",
   "toc_window_display": false,
   "widenNotebook": false
  }
 },
 "nbformat": 4,
 "nbformat_minor": 2
}
